{
 "cells": [
  {
   "cell_type": "code",
   "execution_count": 1,
   "metadata": {},
   "outputs": [],
   "source": [
    "import pandas as pd"
   ]
  },
  {
   "cell_type": "code",
   "execution_count": 2,
   "metadata": {},
   "outputs": [],
   "source": [
    "county_census = pd.read_csv('/home/shumway743/cis5500_group/census/data/processed/county_2021_census_api_p.csv')\n",
    "place_census = pd.read_csv('/home/shumway743/cis5500_group/census/data/processed/place_2021_census_api_p.csv')\n",
    "state_census = pd.read_csv('/home/shumway743/cis5500_group/census/data/processed/state_2021_census_api_p.csv')\n",
    "metro_census = pd.read_csv('/home/shumway743/cis5500_group/census/data/processed/metro_2021_census_api_p.csv')\n",
    "county_crime = pd.read_csv('/home/shumway743/cis5500_group/crime/output/county_crime_output.csv')\n",
    "metro_crime = pd.read_csv('/home/shumway743/cis5500_group/crime/output/metro_crime_output.csv')\n",
    "place_crime = pd.read_csv('/home/shumway743/cis5500_group/crime/output/place_crime_output.csv')\n",
    "county_col = pd.read_csv('/home/shumway743/cis5500_group/cost_of_living/output/county_cost_of_living.csv')\n",
    "metro_col = pd.read_csv('/home/shumway743/cis5500_group/cost_of_living/output/metro_cost_of_living.csv')"
   ]
  },
  {
   "cell_type": "code",
   "execution_count": 3,
   "metadata": {},
   "outputs": [],
   "source": [
    "county_crime = county_crime[['GEO_ID','crime_index','crime_per_100k']]\n",
    "metro_crime = metro_crime[['GEO_ID','crime_index','crime_per_100k']]\n",
    "place_crime = place_crime[['GEO_ID','crime_index','crime_per_100k']]\n",
    "\n",
    "county_col = county_col[['GEO_ID','annual_cost','cost_index']]\n",
    "metro_col = metro_col[['GEO_ID','annual_cost','cost_index']]"
   ]
  },
  {
   "cell_type": "code",
   "execution_count": 4,
   "metadata": {},
   "outputs": [],
   "source": [
    "county_census = county_census.set_index('GEO_ID')\n",
    "place_census = place_census.set_index('GEO_ID')\n",
    "state_census = state_census.set_index('GEO_ID')\n",
    "metro_census = metro_census.set_index('GEO_ID')\n",
    "county_crime = county_crime.set_index('GEO_ID')\n",
    "metro_crime = metro_crime.set_index('GEO_ID')\n",
    "place_crime = place_crime.set_index('GEO_ID')\n",
    "county_col = county_col.set_index('GEO_ID')\n",
    "metro_col = metro_col.set_index('GEO_ID')"
   ]
  },
  {
   "cell_type": "code",
   "execution_count": 7,
   "metadata": {},
   "outputs": [
    {
     "name": "stdout",
     "output_type": "stream",
     "text": [
      "3221\n",
      "31908\n",
      "52\n",
      "939\n"
     ]
    }
   ],
   "source": [
    "print(len(county_census.index))\n",
    "print(len(place_census.index))\n",
    "print(len(state_census.index))\n",
    "print(len(metro_census.index))"
   ]
  },
  {
   "cell_type": "code",
   "execution_count": 8,
   "metadata": {},
   "outputs": [
    {
     "data": {
      "text/plain": [
       "3221"
      ]
     },
     "execution_count": 8,
     "metadata": {},
     "output_type": "execute_result"
    }
   ],
   "source": [
    "county_out = county_census.drop(['crime_per_100k','crime_index','annual_cost','cost_index'],axis=1)\n",
    "county_out = county_out.join(county_crime, how='left')\n",
    "county_out = county_out.join(county_col, how='left')\n",
    "len(county_out.index)"
   ]
  },
  {
   "cell_type": "code",
   "execution_count": 9,
   "metadata": {},
   "outputs": [
    {
     "data": {
      "text/plain": [
       "939"
      ]
     },
     "execution_count": 9,
     "metadata": {},
     "output_type": "execute_result"
    }
   ],
   "source": [
    "metro_out = metro_census.drop(['crime_per_100k','crime_index','annual_cost','cost_index'],axis=1)\n",
    "metro_out = metro_out.join(metro_crime, how='left')\n",
    "metro_out = metro_out.join(metro_col, how='left')\n",
    "len(metro_out.index)"
   ]
  },
  {
   "cell_type": "code",
   "execution_count": 10,
   "metadata": {},
   "outputs": [
    {
     "data": {
      "text/plain": [
       "31908"
      ]
     },
     "execution_count": 10,
     "metadata": {},
     "output_type": "execute_result"
    }
   ],
   "source": [
    "place_out = place_census.drop(['crime_per_100k','crime_index'],axis=1)\n",
    "place_out = place_out.join(place_crime, how='left')\n",
    "len(place_out.index)"
   ]
  },
  {
   "cell_type": "code",
   "execution_count": 11,
   "metadata": {},
   "outputs": [],
   "source": [
    "county_out.to_csv('/home/shumway743/cis5500_group/census/data/processed/county_2021_census_api_p.csv')\n",
    "place_out.to_csv('/home/shumway743/cis5500_group/census/data/processed/place_2021_census_api_p.csv')\n",
    "metro_out.to_csv('/home/shumway743/cis5500_group/census/data/processed/metro_2021_census_api_p.csv')"
   ]
  },
  {
   "cell_type": "code",
   "execution_count": 21,
   "metadata": {},
   "outputs": [],
   "source": [
    "import numpy as np\n",
    "import os\n",
    "for f in os.listdir('/home/shumway743/cis5500_group/census/data/processed'):\n",
    "    if 'backup' not in f:\n",
    "        path = '/home/shumway743/cis5500_group/census/data/processed/' + f\n",
    "        df = pd.read_csv(path)\n",
    "        df = df.replace(-666666666,np.nan)\n",
    "        df.to_csv(path, index=False)\n",
    "\n"
   ]
  }
 ],
 "metadata": {
  "kernelspec": {
   "display_name": "base",
   "language": "python",
   "name": "python3"
  },
  "language_info": {
   "codemirror_mode": {
    "name": "ipython",
    "version": 3
   },
   "file_extension": ".py",
   "mimetype": "text/x-python",
   "name": "python",
   "nbconvert_exporter": "python",
   "pygments_lexer": "ipython3",
   "version": "3.9.12"
  },
  "orig_nbformat": 4
 },
 "nbformat": 4,
 "nbformat_minor": 2
}
