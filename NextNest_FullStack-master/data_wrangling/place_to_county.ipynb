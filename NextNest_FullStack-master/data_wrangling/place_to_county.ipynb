{
 "cells": [
  {
   "cell_type": "code",
   "execution_count": 15,
   "metadata": {},
   "outputs": [
    {
     "name": "stdout",
     "output_type": "stream",
     "text": [
      "resonse code: 200\n",
      "[['NAME', 'state', 'place'], ['Abanda CDP, Alabama', '01', '00100'], ['Abbeville city, Alabama', '01', '00124'], ['Adamsville city, Alabama', '01', '00460'], ['Addison town, Alabama', '01', '00484'], ['Akron town, Alabama', '01', '00676'], ['Alabaster city, Alabama', '01', '00820'], ['Albertville city, Alabama', '01', '00988'], ['Alexander City city, Alabama', '01', '01132'], ['Alexandria CDP, Alabama', '01', '01180'], ['Aliceville city, Alabama', '01', '01228'], ['Allgood town, Alabama', '01', '01396'], ['Altoona town, Alabama', '01', '01660'], ['Andalusia city, Alabama', '01', '01708'], ['Anderson town, Alabama', '01', '01756'], ['Anniston city, Alabama', '01', '01852'], ['Arab city, Alabama', '01', '02116'], ['Ardmore town, Alabama', '01', '02260'], ['Argo town, Alabama', '01', '02320'], ['Ariton town, Alabama', '01', '02428']]\n"
     ]
    }
   ],
   "source": [
    "import requests\n",
    "year = 2021\n",
    "key = 'c8763b1f3e686c707cf581321b8c16152e9d30e3'\n",
    "url = f'https://api.census.gov/data/{year}/acs/acs5?get=NAME&for=place:*&in=state:*&key={key}'\n",
    "r = requests.get(url)\n",
    "print('resonse code:', r.status_code)\n",
    "try:\n",
    "    places = r.json()\n",
    "except:\n",
    "    print('failed to parse json')\n",
    "    print(r.text)\n",
    "print(places[:20])"
   ]
  },
  {
   "cell_type": "code",
   "execution_count": 60,
   "metadata": {},
   "outputs": [
    {
     "data": {
      "text/plain": [
       "[['NAME', 'state', 'place'], ['Abanda CDP, Alabama', '01', '00100']]"
      ]
     },
     "execution_count": 60,
     "metadata": {},
     "output_type": "execute_result"
    }
   ],
   "source": [
    "places[:2]"
   ]
  },
  {
   "cell_type": "code",
   "execution_count": 50,
   "metadata": {},
   "outputs": [],
   "source": [
    "\n",
    "import time\n",
    "year = 2021\n",
    "\n",
    "results = []\n",
    "counter = Value('i',0)\n",
    "    \n",
    "def get_place(place):\n",
    "    # print(place)\n",
    "    global counter\n",
    "    with counter.get_lock():\n",
    "        counter.value += 1\n",
    "    print(counter.value,'\\n')\n",
    "    year = 2021\n",
    "    key = 'c8763b1f3e686c707cf581321b8c16152e9d30e3'\n",
    "    p = place[2]\n",
    "    s = place[1]\n",
    "    url = f'https://api.census.gov/data/{year}/acs/acs5?get=NAME&for=county%20(or%20part):*&in=state:{s}%20place:{p}&key={key}'\n",
    "    # print(url)\n",
    "    done = False\n",
    "    while not done:\n",
    "        r = requests.get(url)\n",
    "        if r.status_code != 200:\n",
    "            print(r.status_code)\n",
    "            time.sleep(.1)\n",
    "            print(r.text)\n",
    "            continue\n",
    "        try:\n",
    "            p_list = r.json()\n",
    "            # results = results + places[1:]\n",
    "            with open(f'threads/{current_process().pid}.dat','a') as f:\n",
    "                for l in p_list[1:]:\n",
    "                    f.write('|'.join(l) + '\\n')\n",
    "            done = True\n",
    "        except Exception as e:\n",
    "            print(e)\n",
    "            print(r.text)\n"
   ]
  },
  {
   "cell_type": "code",
   "execution_count": 48,
   "metadata": {},
   "outputs": [],
   "source": [
    "from multiprocessing import Pool, current_process, Value\n",
    "\n",
    "\n",
    "\n",
    "# if __name__ == '__main__':\n",
    "#     with Pool(50) as pool:\n",
    "#         pool.map(get_place, places[1:])"
   ]
  },
  {
   "cell_type": "code",
   "execution_count": 52,
   "metadata": {},
   "outputs": [
    {
     "name": "stdout",
     "output_type": "stream",
     "text": [
      "['threads/19701.dat', 'threads/19712.dat', 'threads/19706.dat', 'threads/19683.dat', 'threads/16406.dat', 'threads/19708.dat', 'threads/19709.dat', 'threads/19670.dat', 'threads/19686.dat', 'threads/19715.dat', 'threads/19707.dat', 'threads/19673.dat', 'threads/19674.dat', 'threads/19690.dat', 'threads/19672.dat', 'threads/19685.dat', 'threads/19669.dat', 'threads/19688.dat', 'threads/19668.dat', 'threads/19680.dat', 'threads/19693.dat', 'threads/19691.dat', 'threads/19667.dat', 'threads/19710.dat', 'threads/19713.dat', 'threads/19702.dat', 'threads/19679.dat', 'threads/19681.dat', 'threads/19705.dat', 'threads/19694.dat', 'threads/19699.dat', 'threads/19700.dat', 'threads/19716.dat', 'threads/19689.dat', 'threads/19687.dat', 'threads/19682.dat', 'threads/19714.dat', 'threads/19695.dat', 'threads/19677.dat', 'threads/19696.dat', 'threads/19692.dat', 'threads/19697.dat', 'threads/19704.dat', 'threads/19678.dat', 'threads/19711.dat', 'threads/19675.dat', 'threads/19676.dat', 'threads/19671.dat', 'threads/19684.dat', 'threads/19703.dat', 'threads/19698.dat']\n"
     ]
    },
    {
     "data": {
      "text/html": [
       "<div>\n",
       "<style scoped>\n",
       "    .dataframe tbody tr th:only-of-type {\n",
       "        vertical-align: middle;\n",
       "    }\n",
       "\n",
       "    .dataframe tbody tr th {\n",
       "        vertical-align: top;\n",
       "    }\n",
       "\n",
       "    .dataframe thead th {\n",
       "        text-align: right;\n",
       "    }\n",
       "</style>\n",
       "<table border=\"1\" class=\"dataframe\">\n",
       "  <thead>\n",
       "    <tr style=\"text-align: right;\">\n",
       "      <th></th>\n",
       "      <th>NAME</th>\n",
       "      <th>state</th>\n",
       "      <th>place</th>\n",
       "      <th>county</th>\n",
       "    </tr>\n",
       "  </thead>\n",
       "  <tbody>\n",
       "    <tr>\n",
       "      <th>0</th>\n",
       "      <td>Chatham County (part), Bloomingdale city, Georgia</td>\n",
       "      <td>13</td>\n",
       "      <td>08844</td>\n",
       "      <td>051</td>\n",
       "    </tr>\n",
       "    <tr>\n",
       "      <th>1</th>\n",
       "      <td>Fannin County (part), Blue Ridge city, Georgia</td>\n",
       "      <td>13</td>\n",
       "      <td>08928</td>\n",
       "      <td>111</td>\n",
       "    </tr>\n",
       "    <tr>\n",
       "      <th>2</th>\n",
       "      <td>Clay County (part), Bluffton town, Georgia</td>\n",
       "      <td>13</td>\n",
       "      <td>08956</td>\n",
       "      <td>061</td>\n",
       "    </tr>\n",
       "    <tr>\n",
       "      <th>3</th>\n",
       "      <td>Burke County (part), Blythe city, Georgia</td>\n",
       "      <td>13</td>\n",
       "      <td>09040</td>\n",
       "      <td>033</td>\n",
       "    </tr>\n",
       "    <tr>\n",
       "      <th>4</th>\n",
       "      <td>Richmond County (part), Blythe city, Georgia</td>\n",
       "      <td>13</td>\n",
       "      <td>09040</td>\n",
       "      <td>245</td>\n",
       "    </tr>\n",
       "  </tbody>\n",
       "</table>\n",
       "</div>"
      ],
      "text/plain": [
       "                                                NAME state  place county\n",
       "0  Chatham County (part), Bloomingdale city, Georgia    13  08844    051\n",
       "1     Fannin County (part), Blue Ridge city, Georgia    13  08928    111\n",
       "2         Clay County (part), Bluffton town, Georgia    13  08956    061\n",
       "3          Burke County (part), Blythe city, Georgia    13  09040    033\n",
       "4       Richmond County (part), Blythe city, Georgia    13  09040    245"
      ]
     },
     "execution_count": 52,
     "metadata": {},
     "output_type": "execute_result"
    }
   ],
   "source": [
    "import pandas as pd\n",
    "import glob\n",
    "import os\n",
    "\n",
    "\n",
    "\n",
    "all_files = glob.glob(\"threads/*.dat\")\n",
    "print(all_files)\n",
    "\n",
    "li = []\n",
    "\n",
    "for filename in all_files:\n",
    "    df = pd.read_csv(filename,names=[\"NAME\",\"state\",\"place\",\"county\"],sep='|')\n",
    "    li.append(df)\n",
    "\n",
    "frame = pd.concat(li)\n",
    "\n",
    "frame.state = frame.state.apply(lambda x: str(x).zfill(2))\n",
    "frame.county = frame.county.apply(lambda x: str(x).zfill(3))\n",
    "frame.place = frame.place.apply(lambda x: str(x).zfill(5))\n",
    "frame.head()"
   ]
  },
  {
   "cell_type": "code",
   "execution_count": 56,
   "metadata": {},
   "outputs": [],
   "source": [
    "frame.to_csv('state-place-county.csv', index=False)"
   ]
  },
  {
   "cell_type": "code",
   "execution_count": 58,
   "metadata": {},
   "outputs": [
    {
     "data": {
      "text/html": [
       "<div>\n",
       "<style scoped>\n",
       "    .dataframe tbody tr th:only-of-type {\n",
       "        vertical-align: middle;\n",
       "    }\n",
       "\n",
       "    .dataframe tbody tr th {\n",
       "        vertical-align: top;\n",
       "    }\n",
       "\n",
       "    .dataframe thead th {\n",
       "        text-align: right;\n",
       "    }\n",
       "</style>\n",
       "<table border=\"1\" class=\"dataframe\">\n",
       "  <thead>\n",
       "    <tr style=\"text-align: right;\">\n",
       "      <th></th>\n",
       "      <th></th>\n",
       "      <th></th>\n",
       "      <th>NAME</th>\n",
       "    </tr>\n",
       "    <tr>\n",
       "      <th>state</th>\n",
       "      <th>place</th>\n",
       "      <th>county</th>\n",
       "      <th></th>\n",
       "    </tr>\n",
       "  </thead>\n",
       "  <tbody>\n",
       "    <tr>\n",
       "      <th>01</th>\n",
       "      <th>00100</th>\n",
       "      <th>017</th>\n",
       "      <td>1</td>\n",
       "    </tr>\n",
       "    <tr>\n",
       "      <th rowspan=\"4\" valign=\"top\">39</th>\n",
       "      <th>54838</th>\n",
       "      <th>011</th>\n",
       "      <td>1</td>\n",
       "    </tr>\n",
       "    <tr>\n",
       "      <th>54726</th>\n",
       "      <th>047</th>\n",
       "      <td>1</td>\n",
       "    </tr>\n",
       "    <tr>\n",
       "      <th>54698</th>\n",
       "      <th>077</th>\n",
       "      <td>1</td>\n",
       "    </tr>\n",
       "    <tr>\n",
       "      <th>54684</th>\n",
       "      <th>061</th>\n",
       "      <td>1</td>\n",
       "    </tr>\n",
       "    <tr>\n",
       "      <th>...</th>\n",
       "      <th>...</th>\n",
       "      <th>...</th>\n",
       "      <td>...</td>\n",
       "    </tr>\n",
       "    <tr>\n",
       "      <th rowspan=\"4\" valign=\"top\">21</th>\n",
       "      <th>36865</th>\n",
       "      <th>111</th>\n",
       "      <td>1</td>\n",
       "    </tr>\n",
       "    <tr>\n",
       "      <th>36604</th>\n",
       "      <th>037</th>\n",
       "      <td>1</td>\n",
       "    </tr>\n",
       "    <tr>\n",
       "      <th>36460</th>\n",
       "      <th>113</th>\n",
       "      <td>1</td>\n",
       "    </tr>\n",
       "    <tr>\n",
       "      <th>36374</th>\n",
       "      <th>111</th>\n",
       "      <td>1</td>\n",
       "    </tr>\n",
       "    <tr>\n",
       "      <th>72</th>\n",
       "      <th>88293</th>\n",
       "      <th>027</th>\n",
       "      <td>1</td>\n",
       "    </tr>\n",
       "  </tbody>\n",
       "</table>\n",
       "<p>33341 rows × 1 columns</p>\n",
       "</div>"
      ],
      "text/plain": [
       "                    NAME\n",
       "state place county      \n",
       "01    00100 017        1\n",
       "39    54838 011        1\n",
       "      54726 047        1\n",
       "      54698 077        1\n",
       "      54684 061        1\n",
       "...                  ...\n",
       "21    36865 111        1\n",
       "      36604 037        1\n",
       "      36460 113        1\n",
       "      36374 111        1\n",
       "72    88293 027        1\n",
       "\n",
       "[33341 rows x 1 columns]"
      ]
     },
     "execution_count": 58,
     "metadata": {},
     "output_type": "execute_result"
    }
   ],
   "source": [
    "frame.groupby(['state','place','county']).count().sort_values('NAME',ascending=False)"
   ]
  },
  {
   "cell_type": "code",
   "execution_count": 16,
   "metadata": {},
   "outputs": [
    {
     "data": {
      "text/html": [
       "<div>\n",
       "<style scoped>\n",
       "    .dataframe tbody tr th:only-of-type {\n",
       "        vertical-align: middle;\n",
       "    }\n",
       "\n",
       "    .dataframe tbody tr th {\n",
       "        vertical-align: top;\n",
       "    }\n",
       "\n",
       "    .dataframe thead th {\n",
       "        text-align: right;\n",
       "    }\n",
       "</style>\n",
       "<table border=\"1\" class=\"dataframe\">\n",
       "  <thead>\n",
       "    <tr style=\"text-align: right;\">\n",
       "      <th></th>\n",
       "      <th>NAME</th>\n",
       "      <th>state</th>\n",
       "      <th>place</th>\n",
       "    </tr>\n",
       "  </thead>\n",
       "  <tbody>\n",
       "    <tr>\n",
       "      <th>0</th>\n",
       "      <td>Abanda CDP, Alabama</td>\n",
       "      <td>01</td>\n",
       "      <td>00100</td>\n",
       "    </tr>\n",
       "    <tr>\n",
       "      <th>1</th>\n",
       "      <td>Abbeville city, Alabama</td>\n",
       "      <td>01</td>\n",
       "      <td>00124</td>\n",
       "    </tr>\n",
       "    <tr>\n",
       "      <th>2</th>\n",
       "      <td>Adamsville city, Alabama</td>\n",
       "      <td>01</td>\n",
       "      <td>00460</td>\n",
       "    </tr>\n",
       "    <tr>\n",
       "      <th>3</th>\n",
       "      <td>Addison town, Alabama</td>\n",
       "      <td>01</td>\n",
       "      <td>00484</td>\n",
       "    </tr>\n",
       "    <tr>\n",
       "      <th>4</th>\n",
       "      <td>Akron town, Alabama</td>\n",
       "      <td>01</td>\n",
       "      <td>00676</td>\n",
       "    </tr>\n",
       "  </tbody>\n",
       "</table>\n",
       "</div>"
      ],
      "text/plain": [
       "                       NAME state  place\n",
       "0       Abanda CDP, Alabama    01  00100\n",
       "1   Abbeville city, Alabama    01  00124\n",
       "2  Adamsville city, Alabama    01  00460\n",
       "3     Addison town, Alabama    01  00484\n",
       "4       Akron town, Alabama    01  00676"
      ]
     },
     "execution_count": 16,
     "metadata": {},
     "output_type": "execute_result"
    }
   ],
   "source": [
    "pulled = pd.DataFrame(places[1:],columns=places[0])\n",
    "pulled.head()"
   ]
  },
  {
   "cell_type": "code",
   "execution_count": 53,
   "metadata": {},
   "outputs": [],
   "source": [
    "missing = pulled.merge(frame,on=['state','place'],how='left')"
   ]
  },
  {
   "cell_type": "code",
   "execution_count": 54,
   "metadata": {},
   "outputs": [
    {
     "name": "stdout",
     "output_type": "stream",
     "text": [
      "[]\n"
     ]
    }
   ],
   "source": [
    "tmp=missing[missing.county.isnull()][['NAME_x','state','place']]\n",
    "m_list=list(tmp.itertuples(index=False, name=None))\n",
    "print(m_list)\n",
    "\n",
    "# for w in m_list:\n",
    "#     get_place(w)"
   ]
  },
  {
   "cell_type": "code",
   "execution_count": 32,
   "metadata": {},
   "outputs": [
    {
     "data": {
      "text/plain": [
       "31908"
      ]
     },
     "execution_count": 32,
     "metadata": {},
     "output_type": "execute_result"
    }
   ],
   "source": [
    "len(pulled.groupby(['state','place']))"
   ]
  },
  {
   "cell_type": "code",
   "execution_count": 33,
   "metadata": {},
   "outputs": [
    {
     "data": {
      "text/plain": [
       "31761"
      ]
     },
     "execution_count": 33,
     "metadata": {},
     "output_type": "execute_result"
    }
   ],
   "source": [
    "len(frame.groupby(['state','place']))"
   ]
  }
 ],
 "metadata": {
  "kernelspec": {
   "display_name": "base",
   "language": "python",
   "name": "python3"
  },
  "language_info": {
   "codemirror_mode": {
    "name": "ipython",
    "version": 3
   },
   "file_extension": ".py",
   "mimetype": "text/x-python",
   "name": "python",
   "nbconvert_exporter": "python",
   "pygments_lexer": "ipython3",
   "version": "3.9.12"
  },
  "orig_nbformat": 4
 },
 "nbformat": 4,
 "nbformat_minor": 2
}
